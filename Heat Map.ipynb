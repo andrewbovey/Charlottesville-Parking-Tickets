{
 "cells": [
  {
   "cell_type": "markdown",
   "metadata": {},
   "source": [
    "# Complete Data and Data by Year Heatmap Creation"
   ]
  },
  {
   "cell_type": "code",
   "execution_count": null,
   "metadata": {},
   "outputs": [],
   "source": [
    "import folium\n",
    "from folium import plugins\n",
    "from folium.plugins import HeatMap\n",
    "import pandas as pd\n",
    "import numpy as np\n",
    "import datetime\n",
    "import matplotlib.pyplot as plt\n",
    "%matplotlib inline\n",
    "import warnings\n",
    "warnings.simplefilter(\"ignore\")"
   ]
  },
  {
   "cell_type": "code",
   "execution_count": 186,
   "metadata": {
    "scrolled": true
   },
   "outputs": [
    {
     "name": "stdout",
     "output_type": "stream",
     "text": [
      "424 TOW AWAY ZONE    1\n",
      "Name: Location, dtype: int64\n"
     ]
    }
   ],
   "source": [
    "df = pd.read_csv('C:/Users/Henry/Documents/UVA/CS5010/Final_Project/Parking_Tickets.csv')\n",
    "df['newlocation'] = df.Location + ' Charlottesville, VA'\n",
    "geocoded = pd.read_csv('C:/Users/Henry/Documents/UVA/CS5010/Final_Project/outputgeocoder.csv')\n",
    "geocoded = geocoded[['input_string','latitude','longitude']]\n",
    "merged = pd.merge(df, geocoded, left_on = 'newlocation', right_on = 'input_string')\n",
    "missing = merged[merged.latitude.isnull()] \n",
    "print(missing.Location.value_counts()) #show missing locations\n",
    "mergedfull = merged[pd.notnull(merged.latitude)]\n",
    "latlong = mergedfull[['latitude','longitude']]"
   ]
  },
  {
   "cell_type": "code",
   "execution_count": 168,
   "metadata": {},
   "outputs": [],
   "source": [
    "m = folium.Map([38.0345,-78.49], zoom_start = 14)"
   ]
  },
  {
   "cell_type": "code",
   "execution_count": 169,
   "metadata": {},
   "outputs": [
    {
     "data": {
      "text/plain": [
       "<folium.plugins.heat_map.HeatMap at 0x2374573d2b0>"
      ]
     },
     "execution_count": 169,
     "metadata": {},
     "output_type": "execute_result"
    }
   ],
   "source": [
    "heat_data = [[row['latitude'],row['longitude']]for index, row in latlong.iterrows()]\n",
    "HeatMap(heat_data, min_opacity = .1,max_zoom =18, max_val = 1, blur = 2,radius = 4).add_to(m)"
   ]
  },
  {
   "cell_type": "code",
   "execution_count": 170,
   "metadata": {},
   "outputs": [],
   "source": [
    "m.save('ParkingTicketsFULLDATAHEATONLY.html')"
   ]
  },
  {
   "cell_type": "code",
   "execution_count": 187,
   "metadata": {
    "scrolled": false
   },
   "outputs": [],
   "source": [
    "mergedfull['Date'] = mergedfull.DateIssued.str[:10]\n",
    "mergedfull['Time'] = mergedfull.DateIssued.str[11:-5]\n",
    "mergedfull['Hour'] = pd.to_datetime(mergedfull['Time'], format= '%H:%M:%S' ).dt.hour\n",
    "mergedfull['Hour'] = mergedfull.Hour.map(\"{:02}\".format)\n",
    "mergedfull = mergedfull.drop(columns=['RecordID','TicketNumber','DateIssued', 'StreetName','StreetNumber','LicenseState','WaiverRequestDate','WaiverGrantedDate','AppealDate','AppealGrantedDate','ViolationDescription','AppealStatus','Location','LicensePlateAnon'])\n",
    "mergedfull['Hour'] = np.where(mergedfull.eval(\"Time == '00:00:00'\"), mergedfull.TimeIssued.str[:2], mergedfull.Hour)\n",
    "mergedfull['Date'] = pd.to_datetime(mergedfull['Date'], infer_datetime_format = True, errors='coerce')\n",
    "date_current = pd.to_datetime(datetime.date.today())\n",
    "current = mergedfull[mergedfull['Date'] < date_current]\n",
    "current['Hour'] = pd.to_numeric(current['Hour'])\n",
    "current = current[current['Hour'] < 24]\n",
    "current['Year'] = current['Date'].dt.year"
   ]
  },
  {
   "cell_type": "code",
   "execution_count": 183,
   "metadata": {
    "scrolled": true
   },
   "outputs": [],
   "source": [
    "for x in range(2000,2019):\n",
    "    yeardf = current[current.Year == x]\n",
    "    yeardf = yeardf[['latitude','longitude']]\n",
    "    m = folium.Map([38.0345,-78.49], zoom_start = 14)\n",
    "    heat_data = [[row['latitude'],row['longitude']]for index, row in yeardf.iterrows()]\n",
    "    HeatMap(heat_data, min_opacity = .4,max_zoom =18, max_val = 1, blur = 3,radius = 5).add_to(m)\n",
    "    m.save('ParkingTickets'+str(x)+'.html')"
   ]
  }
 ],
 "metadata": {
  "kernelspec": {
   "display_name": "Python 3",
   "language": "python",
   "name": "python3"
  },
  "language_info": {
   "codemirror_mode": {
    "name": "ipython",
    "version": 3
   },
   "file_extension": ".py",
   "mimetype": "text/x-python",
   "name": "python",
   "nbconvert_exporter": "python",
   "pygments_lexer": "ipython3",
   "version": "3.6.5"
  }
 },
 "nbformat": 4,
 "nbformat_minor": 2
}
